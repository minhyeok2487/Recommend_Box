{
 "cells": [
  {
   "cell_type": "code",
   "execution_count": 1,
   "id": "fca3bce5",
   "metadata": {},
   "outputs": [
    {
     "data": {
      "text/html": [
       "<div id=\"glowscript\" class=\"glowscript\"></div>"
      ],
      "text/plain": [
       "<IPython.core.display.HTML object>"
      ]
     },
     "metadata": {},
     "output_type": "display_data"
    },
    {
     "data": {
      "application/javascript": [
       "if (typeof Jupyter !== \"undefined\") { window.__context = { glowscript_container: $(\"#glowscript\").removeAttr(\"id\")};}else{ element.textContent = ' ';}"
      ],
      "text/plain": [
       "<IPython.core.display.Javascript object>"
      ]
     },
     "metadata": {},
     "output_type": "display_data"
    }
   ],
   "source": [
    "from vpython import*\n",
    "import random\n",
    "import numpy as np\n",
    "import itertools"
   ]
  },
  {
   "cell_type": "code",
   "execution_count": 2,
   "id": "404f57fb",
   "metadata": {},
   "outputs": [],
   "source": [
    "def box_select(box_list, product_list):\n",
    "  for i in box_list:\n",
    "    box_volum = i[0]*i[1]*i[2]\n",
    "    box = i.copy()\n",
    "    box.sort()\n",
    "    product_volum_sum = 0\n",
    "    for j in product_list:\n",
    "       product_volum = j[0]*j[1]*j[2]\n",
    "       product_volum_sum += product_volum_sum\n",
    "\n",
    "    if box_volum < product_volum_sum:\n",
    "      continue\n",
    "\n",
    "    count = 0  #모든 상품의 모든 길이가 상자의 크기보다 작은지 확인 하기 위하여\n",
    "    for k in product_list:\n",
    "      k.sort()\n",
    "      if k[0] <= box[0] and k[1] <= box[1] and k[2] <= box[2]:\n",
    "        count += 1\n",
    "    \n",
    "    if len(product_list) == count:\n",
    "      selected = i\n",
    "      break\n",
    "  \n",
    "  return selected"
   ]
  },
  {
   "cell_type": "code",
   "execution_count": 3,
   "id": "8192b08a",
   "metadata": {},
   "outputs": [],
   "source": [
    "def make_list(product_list):\n",
    "  list = []\n",
    "  for i in product_list:\n",
    "    case = [[i[0],i[1],i[2]],[i[0],i[2],i[1]],[i[1],i[0],i[2]],\n",
    "            [i[1],i[2],i[0]],[i[2],i[0],i[1]],[i[2],i[1],i[0]]]\n",
    "    list.append(case)\n",
    "  #각 상품 마다 모든 회전된 리스트릴 먼저 만들었음\n",
    "  \n",
    "  n=len(list)\n",
    "  list_case=[]\n",
    "  a = 6**n\n",
    "  #6의 n승번 반복하도록 하는 거\n",
    "  for i in range(a):\n",
    "    list_add=[]\n",
    "    for i in range(n):\n",
    "      y = random.randint(0,5)\n",
    "      a = list[i][y]\n",
    "      list_add.append(a)\n",
    "  #회전된 리스트를 가지고 6^n번 리스트를 만들었다.\n",
    "\n",
    "    list_case.append(list_add)\n",
    "\n",
    "\n",
    "  return list_case"
   ]
  },
  {
   "cell_type": "code",
   "execution_count": 4,
   "id": "619de726",
   "metadata": {},
   "outputs": [],
   "source": [
    "def load(box,list_case):\n",
    "  box_size = np.zeros((box[2],box[1],box[0]))#높이, 세로, 가로\n",
    "  n = len(list_case[0]) # 하나의 케이스 길이\n",
    "  product_information = []\n",
    "  print(n)\n",
    "  for i in list_case:\n",
    "    *b, = itertools.permutations(i,n) #각 케이스의 조합을 만듬 \n",
    "    for j in b: #조합의 첫번째 부터 마지막 까지 각각의 경우에 대해서 생각해보는(아마 n!개가 나올 거임)\n",
    "      position = np.array([0,0,0])  #[x,y,z]\n",
    "      can = True\n",
    "      pos_hist=[]\n",
    "      box_size = np.zeros((box[2],box[1],box[0]))\n",
    "      for case in j: #각 조합의 첫번째 부터 적재가 가능한지 검사를 해 본다.\n",
    "        position = np.array([0,0,0])\n",
    "        \n",
    "        while(True):\n",
    "          \n",
    "        #실질적으로 적재가 가능한지 검사하는 코드\n",
    "          slice_value = box_size[position[2]:case[2]+position[2],position[1]:case[1]+position[1],position[0]:case[0]+position[0]]\n",
    "          correct = np.zeros((case[2],case[1],case[0]))\n",
    "\n",
    "          #자른 만큼의 크기와 동일하게 0으로 되어있다면 1로 채워 넣음\n",
    "          if np.array_equal(slice_value,correct):\n",
    "            box_size[position[2]:case[2]+position[2],position[1]:case[1]+position[1],position[0]:case[0]+position[0]] = np.ones((case[2],case[1],case[0]))\n",
    "            pos_hist.append(position)\n",
    "            \n",
    "            break\n",
    "            \n",
    "         #적재가 불가능 할 경우 한칸씩 이동해 보며 확인을 해보는 경우를 생각해 보려고 함\n",
    "          if position[0] < box[0]-case[0]:\n",
    "            position[0] += 1\n",
    "\n",
    "          elif position[1] < box[1]-case[1]:\n",
    "            position[1] += 1\n",
    "            if position[0] == box[0]-case[0]:\n",
    "              position[0] = 0\n",
    "         \n",
    "          elif position[2] < box[2] - case[2]:\n",
    "            position[2] += 1\n",
    "            if position[0] == box[0]-case[0]:\n",
    "              position[0] = 0\n",
    "\n",
    "            if position[1] == box[1]-case[1]:\n",
    "              position[1] = 0\n",
    "            \n",
    "          if position[0] >= box[0] - case[0] and position[1] >= box[1] - case[1] and position[2] >= box[2] - case[2]:\n",
    "            can = False\n",
    "            break \n",
    "\n",
    "        \n",
    "        if can == False:\n",
    "          break\n",
    "        \n",
    "        \n",
    "        if len(pos_hist) == n:\n",
    "          break \n",
    "\n",
    "      if len(pos_hist) == n:\n",
    "         product_information = j\n",
    "         break\n",
    "    if len(pos_hist) == n:\n",
    "      break\n",
    "  \n",
    "  return pos_hist,product_information"
   ]
  },
  {
   "cell_type": "code",
   "execution_count": 5,
   "id": "ec9f6643",
   "metadata": {},
   "outputs": [
    {
     "name": "stdout",
     "output_type": "stream",
     "text": [
      "5\n"
     ]
    }
   ],
   "source": [
    "#상자가 가로 세로 높이 순서로 들어갔을 경우 우체국 박스크기 기준?\n",
    "#[22, 19, 9],[27,18,15],[32,25,10],[34,25,21],[41,31,28],[48,38,34]\n",
    "box_list = [[22, 19, 9],[27,18,15],[32,25,10],[34,25,21],[41,31,28],[48,38,34]]\n",
    "product_list = [[15,4,15],[6,14,3],[15,4,4],[15,4,4],[15,4,15]]\n",
    "#박스 리스트랑 물건 리스트 작성해야함\n",
    "box_size = box_select(box_list,product_list)\n",
    "#선택된 박스의 정보를 담음\n",
    "\n",
    "list_case = make_list(product_list)\n",
    "\n",
    "hist, product_inform = load(box_size, list_case)"
   ]
  },
  {
   "cell_type": "code",
   "execution_count": 6,
   "id": "f7f3ffbd",
   "metadata": {},
   "outputs": [
    {
     "name": "stdout",
     "output_type": "stream",
     "text": [
      "[array([0, 0, 0]), array([15,  0,  0]), array([ 0, 15,  0]), array([0, 0, 4]), array([0, 4, 4])]\n",
      "[22, 19, 9]\n",
      "([15, 15, 4], [6, 14, 3], [15, 4, 4], [15, 4, 4], [15, 15, 4])\n"
     ]
    }
   ],
   "source": [
    "print(hist)\n",
    "print(box_size)\n",
    "print(product_inform)"
   ]
  },
  {
   "cell_type": "code",
   "execution_count": 7,
   "id": "17f67592",
   "metadata": {},
   "outputs": [
    {
     "data": {
      "application/javascript": [
       "if (typeof Jupyter !== \"undefined\") {require.undef(\"nbextensions/vpython_libraries/glow.min\");}else{element.textContent = ' ';}"
      ],
      "text/plain": [
       "<IPython.core.display.Javascript object>"
      ]
     },
     "metadata": {},
     "output_type": "display_data"
    },
    {
     "data": {
      "application/javascript": [
       "if (typeof Jupyter !== \"undefined\") {require.undef(\"nbextensions/vpython_libraries/glowcomm\");}else{element.textContent = ' ';}"
      ],
      "text/plain": [
       "<IPython.core.display.Javascript object>"
      ]
     },
     "metadata": {},
     "output_type": "display_data"
    },
    {
     "data": {
      "application/javascript": [
       "if (typeof Jupyter !== \"undefined\") {require.undef(\"nbextensions/vpython_libraries/jquery-ui.custom.min\");}else{element.textContent = ' ';}"
      ],
      "text/plain": [
       "<IPython.core.display.Javascript object>"
      ]
     },
     "metadata": {},
     "output_type": "display_data"
    },
    {
     "data": {
      "application/javascript": [
       "if (typeof Jupyter !== \"undefined\") {require([\"nbextensions/vpython_libraries/glow.min\"], function(){console.log(\"GLOW LOADED\");});}else{element.textContent = ' ';}"
      ],
      "text/plain": [
       "<IPython.core.display.Javascript object>"
      ]
     },
     "metadata": {},
     "output_type": "display_data"
    },
    {
     "data": {
      "application/javascript": [
       "if (typeof Jupyter !== \"undefined\") {require([\"nbextensions/vpython_libraries/glowcomm\"], function(){console.log(\"GLOWCOMM LOADED\");});}else{element.textContent = ' ';}"
      ],
      "text/plain": [
       "<IPython.core.display.Javascript object>"
      ]
     },
     "metadata": {},
     "output_type": "display_data"
    },
    {
     "data": {
      "application/javascript": [
       "if (typeof Jupyter !== \"undefined\") {require([\"nbextensions/vpython_libraries/jquery-ui.custom.min\"], function(){console.log(\"JQUERY LOADED\");});}else{element.textContent = ' ';}"
      ],
      "text/plain": [
       "<IPython.core.display.Javascript object>"
      ]
     },
     "metadata": {},
     "output_type": "display_data"
    },
    {
     "name": "stdout",
     "output_type": "stream",
     "text": [
      "[0 0 0]\n",
      "[15, 15, 4]\n"
     ]
    }
   ],
   "source": [
    "center = vector(box_size[0]/2,box_size[2]/2,box_size[1]/2)\n",
    "size = vector(box_size[0],box_size[2],box_size[1])\n",
    "box_big = box(pos = center, size = size, color = color.white, opacity = 0.3)\n",
    "\n",
    "print(hist[0])\n",
    "print(product_inform[0])\n",
    "center = vector(hist[0][0]+product_inform[0][0]/2,hist[0][2]+product_inform[0][2]/2,hist[0][1]+product_inform[0][1]/2)\n",
    "size = vector(product_inform[0][0],product_inform[0][2],product_inform[0][1])\n",
    "box_big = box(pos = center, size = size, color = color.blue )\n",
    "\n",
    "color_list = [(1,0,0),(0,1,0),(0,0,1),(1,1,0),(1,0.5,0),(0,1,1),(1,0,1),(1,1,1)]\n",
    "\n",
    "for i in range(len(hist)):\n",
    "    s = i%8\n",
    "    center = vector(hist[i][0]+product_inform[i][0]/2,hist[i][2]+product_inform[i][2]/2,hist[i][1]+product_inform[i][1]/2)\n",
    "    size = vector(product_inform[i][0],product_inform[i][2],product_inform[i][1])\n",
    "    box_big = box(pos = center, size = size, color = vector(color_list[s][0],color_list[s][1],color_list[s][2]))"
   ]
  },
  {
   "cell_type": "code",
   "execution_count": null,
   "id": "d76373e4",
   "metadata": {},
   "outputs": [],
   "source": []
  }
 ],
 "metadata": {
  "kernelspec": {
   "display_name": "Python 3",
   "language": "python",
   "name": "python3"
  },
  "language_info": {
   "codemirror_mode": {
    "name": "ipython",
    "version": 3
   },
   "file_extension": ".py",
   "mimetype": "text/x-python",
   "name": "python",
   "nbconvert_exporter": "python",
   "pygments_lexer": "ipython3",
   "version": "3.8.8"
  }
 },
 "nbformat": 4,
 "nbformat_minor": 5
}
